{
 "cells": [
  {
   "cell_type": "code",
   "execution_count": 1,
   "metadata": {
    "collapsed": true
   },
   "outputs": [],
   "source": [
    "import numpy as np\n"
   ]
  },
  {
   "cell_type": "code",
   "execution_count": 3,
   "metadata": {
    "collapsed": true
   },
   "outputs": [],
   "source": [
    "##Final Project Baseline Values\n",
    "\n",
    "#Unique cookies to view page per day:\n",
    "UC = 40000\n",
    "\n",
    "#Unique cookies to click \"Start free trial\" per day:\n",
    "UC_FT = 3200\n",
    "\n",
    "#Enrollments per day:\n",
    "e = 660\n",
    "\n",
    "#Click-through-probability on \"Start free trial\":\n",
    "CTR = 0.08\n",
    "\n",
    "#Probability of enrolling, given click:\n",
    "pEnClick = 0.20625\n",
    "\n",
    "#Probability of payment, given enroll:\n",
    "pPayEn = 0.53\n",
    "\n",
    "#Probability of payment, given click\n",
    "pPayClick = 0.1093125\n",
    "\n",
    "# Pageviews\n",
    "PV = 5000"
   ]
  },
  {
   "cell_type": "code",
   "execution_count": null,
   "metadata": {
    "collapsed": true
   },
   "outputs": [],
   "source": [
    "# Standard Error Gross Conversion\n",
    "N\n",
    "\n",
    "SE_GC = np.sqrt(pEnClick*(1-pEnClick))"
   ]
  }
 ],
 "metadata": {
  "kernelspec": {
   "display_name": "Python [default]",
   "language": "python",
   "name": "python2"
  },
  "language_info": {
   "codemirror_mode": {
    "name": "ipython",
    "version": 2
   },
   "file_extension": ".py",
   "mimetype": "text/x-python",
   "name": "python",
   "nbconvert_exporter": "python",
   "pygments_lexer": "ipython2",
   "version": "2.7.12"
  }
 },
 "nbformat": 4,
 "nbformat_minor": 2
}
