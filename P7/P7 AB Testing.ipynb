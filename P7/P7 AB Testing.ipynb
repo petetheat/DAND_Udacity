{
 "cells": [
  {
   "cell_type": "code",
   "execution_count": 45,
   "metadata": {
    "collapsed": false
   },
   "outputs": [],
   "source": [
    "import numpy as np\n",
    "import pandas as pd\n",
    "import seaborn as sns\n",
    "import matplotlib.pyplot as plt\n",
    "\n",
    "%matplotlib inline"
   ]
  },
  {
   "cell_type": "code",
   "execution_count": 46,
   "metadata": {
    "collapsed": true
   },
   "outputs": [],
   "source": [
    "##Final Project Baseline Values\n",
    "\n",
    "#Unique cookies to view page per day:\n",
    "UC = 40000.\n",
    "\n",
    "#Unique cookies to click \"Start free trial\" per day:\n",
    "UC_FT = 3200.\n",
    "\n",
    "#Enrollments per day:\n",
    "e = 660.\n",
    "\n",
    "#Click-through-probability on \"Start free trial\":\n",
    "CTR = 0.08\n",
    "\n",
    "#Probability of enrolling, given click:\n",
    "pEnClick = 0.20625\n",
    "\n",
    "#Probability of payment, given enroll:\n",
    "pPayEn = 0.53\n",
    "\n",
    "#Probability of payment, given click\n",
    "pPayClick = 0.1093125\n",
    "\n",
    "# Pageviews\n",
    "PV = 5000."
   ]
  },
  {
   "cell_type": "code",
   "execution_count": 47,
   "metadata": {
    "collapsed": false
   },
   "outputs": [
    {
     "name": "stdout",
     "output_type": "stream",
     "text": [
      "SE Gross Conversion: 0.0202\n",
      "SE Retention:        0.0549\n",
      "SE Net Conversion:   0.0156\n"
     ]
    }
   ],
   "source": [
    "# Standard Error Gross Conversion\n",
    "N_GC = PV * UC_FT / UC\n",
    "SE_GC = np.sqrt(pEnClick*(1-pEnClick)/N_GC)\n",
    "\n",
    "# Standard Error Retention\n",
    "N_Re = PV * e / UC\n",
    "SE_Re = np.sqrt(pPayEn*(1-pPayEn)/N_Re)\n",
    "\n",
    "# Standard Error Net Conversion\n",
    "N_NC = PV * UC_FT / UC\n",
    "SE_NC = np.sqrt(pPayClick*(1-pPayClick)/N_NC)\n",
    "\n",
    "print(\"SE Gross Conversion: {:.4f}\".format(SE_GC))\n",
    "print(\"SE Retention:        {:.4f}\".format(SE_Re))\n",
    "print(\"SE Net Conversion:   {:.4f}\".format(SE_NC))\n"
   ]
  },
  {
   "cell_type": "markdown",
   "metadata": {},
   "source": [
    "Using this calculator http://www.evanmiller.org/ab-testing/sample-size.html the following samples are obtained:\n",
    "\n",
    "* Gross conversion:\n",
    "    * Baseline conversion: 20.625% \n",
    "    * Minimum detectable effect: 1%\n",
    "    * 1-Beta=80%\n",
    "    * alpha = 5% \n",
    "    * Samples = 25,835\n",
    "\n",
    "* Retention: \n",
    "    * Baseline conversion: 53% \n",
    "    * Minimum detectable effect: 1%\n",
    "    * 1-Beta=80%\n",
    "    * alpha = 5% \n",
    "    * Samples = 39,115\n",
    "    \n",
    "* Net conversion:\n",
    "    * Baseline conversion: 10.93125% \n",
    "    * Minimum detectable effect: .75%\n",
    "    * 1-Beta=80%\n",
    "    * alpha = 5% \n",
    "    * Samples = 27,413"
   ]
  },
  {
   "cell_type": "code",
   "execution_count": 48,
   "metadata": {
    "collapsed": false
   },
   "outputs": [
    {
     "name": "stdout",
     "output_type": "stream",
     "text": [
      "Page views Gross Conversion: 645875\n",
      "Page views Retention:        4741212\n",
      "Page views Net Conversion:   685325\n",
      "645875.0\n"
     ]
    }
   ],
   "source": [
    "Samples_GC = 25835.\n",
    "Samples_Re = 39115.\n",
    "Samples_NC = 27413.\n",
    "\n",
    "PV_GC = 2*Samples_GC * UC / UC_FT\n",
    "PV_Re = 2*Samples_Re * UC / e\n",
    "PV_NC = 2*Samples_NC * UC / UC_FT\n",
    "\n",
    "print(\"Page views Gross Conversion: {:.0f}\".format(PV_GC))\n",
    "print(\"Page views Retention:        {:.0f}\".format(PV_Re))\n",
    "print(\"Page views Net Conversion:   {:.0f}\".format(PV_NC))\n",
    "\n",
    "\n",
    "print 2* 25835. * 40000. / 3200.\n"
   ]
  },
  {
   "cell_type": "markdown",
   "metadata": {},
   "source": [
    "Applying the Bonferroni correction yields the following sample sizes:\n",
    "\n",
    "* Gross conversion:\n",
    "    * Baseline conversion: 20.625% \n",
    "    * Minimum detectable effect: 1%\n",
    "    * 1-Beta=80%\n",
    "    * alpha = 5% / 3 =\n",
    "    * Samples = 25,835\n",
    "\n",
    "* Retention: \n",
    "    * Baseline conversion: 53% \n",
    "    * Minimum detectable effect: 1%\n",
    "    * 1-Beta=80%\n",
    "    * alpha = 5% \n",
    "    * Samples = 39087\n",
    "    \n",
    "* Net conversion:\n",
    "    * Baseline conversion: 10.93125% \n",
    "    * Minimum detectable effect: .75%\n",
    "    * 1-Beta=80%\n",
    "    * alpha = 5% \n",
    "    * Samples = 27,413"
   ]
  },
  {
   "cell_type": "code",
   "execution_count": 49,
   "metadata": {
    "collapsed": false
   },
   "outputs": [
    {
     "name": "stdout",
     "output_type": "stream",
     "text": [
      "Duration (Gross conversion): 17\n",
      "Duration (Retention):        119\n",
      "Duration (Net conversion):   18\n"
     ]
    }
   ],
   "source": [
    "# Duration of the experiment\n",
    "\n",
    "print(\"Duration (Gross conversion): {:.0f}\".format(np.ceil(PV_GC / UC)))\n",
    "print(\"Duration (Retention):        {:.0f}\".format(np.ceil(PV_Re / UC)))\n",
    "print(\"Duration (Net conversion):   {:.0f}\".format(np.ceil(PV_NC / UC)))"
   ]
  },
  {
   "cell_type": "code",
   "execution_count": 50,
   "metadata": {
    "collapsed": false
   },
   "outputs": [
    {
     "data": {
      "text/html": [
       "<div>\n",
       "<table border=\"1\" class=\"dataframe\">\n",
       "  <thead>\n",
       "    <tr style=\"text-align: right;\">\n",
       "      <th></th>\n",
       "      <th>Date</th>\n",
       "      <th>Pageviews</th>\n",
       "      <th>Clicks</th>\n",
       "      <th>Enrollments</th>\n",
       "      <th>Payments</th>\n",
       "    </tr>\n",
       "  </thead>\n",
       "  <tbody>\n",
       "    <tr>\n",
       "      <th>0</th>\n",
       "      <td>Sat, Oct 11</td>\n",
       "      <td>7723</td>\n",
       "      <td>687</td>\n",
       "      <td>134.0</td>\n",
       "      <td>70.0</td>\n",
       "    </tr>\n",
       "    <tr>\n",
       "      <th>1</th>\n",
       "      <td>Sun, Oct 12</td>\n",
       "      <td>9102</td>\n",
       "      <td>779</td>\n",
       "      <td>147.0</td>\n",
       "      <td>70.0</td>\n",
       "    </tr>\n",
       "    <tr>\n",
       "      <th>2</th>\n",
       "      <td>Mon, Oct 13</td>\n",
       "      <td>10511</td>\n",
       "      <td>909</td>\n",
       "      <td>167.0</td>\n",
       "      <td>95.0</td>\n",
       "    </tr>\n",
       "    <tr>\n",
       "      <th>3</th>\n",
       "      <td>Tue, Oct 14</td>\n",
       "      <td>9871</td>\n",
       "      <td>836</td>\n",
       "      <td>156.0</td>\n",
       "      <td>105.0</td>\n",
       "    </tr>\n",
       "    <tr>\n",
       "      <th>4</th>\n",
       "      <td>Wed, Oct 15</td>\n",
       "      <td>10014</td>\n",
       "      <td>837</td>\n",
       "      <td>163.0</td>\n",
       "      <td>64.0</td>\n",
       "    </tr>\n",
       "  </tbody>\n",
       "</table>\n",
       "</div>"
      ],
      "text/plain": [
       "          Date  Pageviews  Clicks  Enrollments  Payments\n",
       "0  Sat, Oct 11       7723     687        134.0      70.0\n",
       "1  Sun, Oct 12       9102     779        147.0      70.0\n",
       "2  Mon, Oct 13      10511     909        167.0      95.0\n",
       "3  Tue, Oct 14       9871     836        156.0     105.0\n",
       "4  Wed, Oct 15      10014     837        163.0      64.0"
      ]
     },
     "execution_count": 50,
     "metadata": {},
     "output_type": "execute_result"
    }
   ],
   "source": [
    "dfCont = pd.read_csv('Final Project Results - Control.csv')\n",
    "dfExp = pd.read_csv('Final Project Results - Experiment.csv')\n",
    "\n",
    "dfCont.head()"
   ]
  },
  {
   "cell_type": "code",
   "execution_count": 51,
   "metadata": {
    "collapsed": false
   },
   "outputs": [
    {
     "data": {
      "text/html": [
       "<div>\n",
       "<table border=\"1\" class=\"dataframe\">\n",
       "  <thead>\n",
       "    <tr style=\"text-align: right;\">\n",
       "      <th></th>\n",
       "      <th>Date</th>\n",
       "      <th>Pageviews</th>\n",
       "      <th>Clicks</th>\n",
       "      <th>Enrollments</th>\n",
       "      <th>Payments</th>\n",
       "    </tr>\n",
       "  </thead>\n",
       "  <tbody>\n",
       "    <tr>\n",
       "      <th>0</th>\n",
       "      <td>Sat, Oct 11</td>\n",
       "      <td>7716</td>\n",
       "      <td>686</td>\n",
       "      <td>105.0</td>\n",
       "      <td>34.0</td>\n",
       "    </tr>\n",
       "    <tr>\n",
       "      <th>1</th>\n",
       "      <td>Sun, Oct 12</td>\n",
       "      <td>9288</td>\n",
       "      <td>785</td>\n",
       "      <td>116.0</td>\n",
       "      <td>91.0</td>\n",
       "    </tr>\n",
       "    <tr>\n",
       "      <th>2</th>\n",
       "      <td>Mon, Oct 13</td>\n",
       "      <td>10480</td>\n",
       "      <td>884</td>\n",
       "      <td>145.0</td>\n",
       "      <td>79.0</td>\n",
       "    </tr>\n",
       "    <tr>\n",
       "      <th>3</th>\n",
       "      <td>Tue, Oct 14</td>\n",
       "      <td>9867</td>\n",
       "      <td>827</td>\n",
       "      <td>138.0</td>\n",
       "      <td>92.0</td>\n",
       "    </tr>\n",
       "    <tr>\n",
       "      <th>4</th>\n",
       "      <td>Wed, Oct 15</td>\n",
       "      <td>9793</td>\n",
       "      <td>832</td>\n",
       "      <td>140.0</td>\n",
       "      <td>94.0</td>\n",
       "    </tr>\n",
       "  </tbody>\n",
       "</table>\n",
       "</div>"
      ],
      "text/plain": [
       "          Date  Pageviews  Clicks  Enrollments  Payments\n",
       "0  Sat, Oct 11       7716     686        105.0      34.0\n",
       "1  Sun, Oct 12       9288     785        116.0      91.0\n",
       "2  Mon, Oct 13      10480     884        145.0      79.0\n",
       "3  Tue, Oct 14       9867     827        138.0      92.0\n",
       "4  Wed, Oct 15       9793     832        140.0      94.0"
      ]
     },
     "execution_count": 51,
     "metadata": {},
     "output_type": "execute_result"
    }
   ],
   "source": [
    "dfExp.head()"
   ]
  },
  {
   "cell_type": "code",
   "execution_count": 52,
   "metadata": {
    "collapsed": false
   },
   "outputs": [
    {
     "data": {
      "text/plain": [
       "array([[<matplotlib.axes._subplots.AxesSubplot object at 0x0000000011236C88>,\n",
       "        <matplotlib.axes._subplots.AxesSubplot object at 0x0000000011716828>],\n",
       "       [<matplotlib.axes._subplots.AxesSubplot object at 0x00000000119DB2E8>,\n",
       "        <matplotlib.axes._subplots.AxesSubplot object at 0x0000000011AE2278>]], dtype=object)"
      ]
     },
     "execution_count": 52,
     "metadata": {},
     "output_type": "execute_result"
    },
    {
     "data": {
      "image/png": "[encoded data removed]",
      "text/plain": [
       "<matplotlib.figure.Figure at 0x10c99278>"
      ]
     },
     "metadata": {},
     "output_type": "display_data"
    }
   ],
   "source": [
    "dfCont.hist(figsize=(15,7.5))"
   ]
  },
  {
   "cell_type": "code",
   "execution_count": 53,
   "metadata": {
    "collapsed": false
   },
   "outputs": [
    {
     "data": {
      "text/plain": [
       "array([[<matplotlib.axes._subplots.AxesSubplot object at 0x0000000011E6F278>,\n",
       "        <matplotlib.axes._subplots.AxesSubplot object at 0x000000001202D550>],\n",
       "       [<matplotlib.axes._subplots.AxesSubplot object at 0x00000000120FB080>,\n",
       "        <matplotlib.axes._subplots.AxesSubplot object at 0x00000000121F59B0>]], dtype=object)"
      ]
     },
     "execution_count": 53,
     "metadata": {},
     "output_type": "execute_result"
    },
    {
     "data": {
      "image/png": "[encoded data removed]",
      "text/plain": [
       "<matplotlib.figure.Figure at 0x11f158d0>"
      ]
     },
     "metadata": {},
     "output_type": "display_data"
    }
   ],
   "source": [
    "dfExp.hist(figsize=(15,7.5))"
   ]
  },
  {
   "cell_type": "code",
   "execution_count": 54,
   "metadata": {
    "collapsed": false
   },
   "outputs": [
    {
     "name": "stdout",
     "output_type": "stream",
     "text": [
      "Cookies:\n",
      "----------------------------------\n",
      "Standard Deviation:  0.00060\n",
      "Margin of error:     0.00118\n",
      "Confidence Interval: 0.49882 - 0.50118\n",
      "Observed value:      0.50064\n"
     ]
    }
   ],
   "source": [
    "# Sanity Checks\n",
    "\n",
    "# Cookies\n",
    "Nexp = float(dfExp.Pageviews.sum())\n",
    "Ncont = float(dfCont.Pageviews.sum())\n",
    "\n",
    "p = .5   # 50% probability\n",
    "z = 1.96 # for 95% confidence interval\n",
    "\n",
    "SD = np.sqrt(p**2/(Nexp + Ncont))\n",
    "m = SD*z\n",
    "\n",
    "print(\"Cookies:\")\n",
    "print(\"----------------------------------\")\n",
    "print(\"Standard Deviation:  {:.5f}\".format(SD))\n",
    "print(\"Margin of error:     {:.5f}\".format(m))\n",
    "print(\"Confidence Interval: {:.5f} - {:.5f}\".format(p-m, p+m))\n",
    "print(\"Observed value:      {:.5f}\".format(Ncont/(Nexp+Ncont)))\n",
    "\n"
   ]
  },
  {
   "cell_type": "code",
   "execution_count": 55,
   "metadata": {
    "collapsed": false
   },
   "outputs": [
    {
     "name": "stdout",
     "output_type": "stream",
     "text": [
      "Clicks:\n",
      "----------------------------------\n",
      "Standard Deviation:  0.00210\n",
      "Margin of error:     0.00412\n",
      "Confidence Interval: 0.49588 - 0.50412\n",
      "Observed value:      0.50047\n",
      "28325.0 28378.0\n"
     ]
    }
   ],
   "source": [
    " # Clicks\n",
    "Nexp = float(dfExp.Clicks.sum())\n",
    "Ncont = float(dfCont.Clicks.sum())\n",
    "\n",
    "SD = np.sqrt(p**2/(Nexp + Ncont))\n",
    "m = SD*z\n",
    "\n",
    "print(\"Clicks:\")\n",
    "print(\"----------------------------------\")\n",
    "print(\"Standard Deviation:  {:.5f}\".format(SD))\n",
    "print(\"Margin of error:     {:.5f}\".format(m))\n",
    "print(\"Confidence Interval: {:.5f} - {:.5f}\".format(p-m, p+m))\n",
    "print(\"Observed value:      {:.5f}\".format(Ncont/(Nexp+Ncont)))\n",
    "\n",
    "print Nexp, Ncont"
   ]
  },
  {
   "cell_type": "code",
   "execution_count": 56,
   "metadata": {
    "collapsed": false
   },
   "outputs": [
    {
     "name": "stdout",
     "output_type": "stream",
     "text": [
      "Click-through-rate:\n",
      "----------------------------------\n",
      "CTR control group:    0.08213\n",
      "Standard Deviation:   0.00047\n",
      "Margin of error:      0.00092\n",
      "Confidence Interval:  0.08121 - 0.08304\n",
      "CTR experiment group: 0.08219\n"
     ]
    }
   ],
   "source": [
    "# Click-through-probability\n",
    "\n",
    "dfExp['CTR'] = dfExp.Clicks / dfExp.Pageviews\n",
    "dfCont['CTR'] = dfCont.Clicks / dfCont.Pageviews\n",
    "\n",
    "CTRcont = dfCont.CTR.mean()\n",
    "CTRexp = dfExp.CTR.mean()\n",
    "\n",
    "SDcont = np.sqrt(CTRcont*(1-CTRcont)/dfCont.Pageviews.sum())\n",
    "m = SDcont*z\n",
    "\n",
    "print(\"Click-through-rate:\")\n",
    "print(\"----------------------------------\")\n",
    "print(\"CTR control group:    {:.5f}\".format(CTRcont))\n",
    "print(\"Standard Deviation:   {:.5f}\".format(SDcont))\n",
    "print(\"Margin of error:      {:.5f}\".format(m))\n",
    "print(\"Confidence Interval:  {:.5f} - {:.5f}\".format(CTRcont-m, CTRcont+m))\n",
    "print(\"CTR experiment group: {:.5f}\".format(CTRexp))"
   ]
  },
  {
   "cell_type": "code",
   "execution_count": 57,
   "metadata": {
    "collapsed": false
   },
   "outputs": [
    {
     "name": "stdout",
     "output_type": "stream",
     "text": [
      "3785.0 17293.0 3423.0 17260.0\n",
      "Gross conversion (control):    0.21887\n",
      "Gross conversion (experiment): 0.19832\n",
      "dhat:                          -0.02055\n",
      "ppool:                         0.20861\n",
      "Pooled Standard Deviation:     0.00437\n",
      "Margin of Error:               0.00857\n",
      "Confidence Interval:           -0.02912 - -0.01199\n"
     ]
    }
   ],
   "source": [
    "# Effect size tests\n",
    "\n",
    "NCont = float(dfCont.loc[~dfCont.Enrollments.isnull(), 'Clicks'].sum())\n",
    "NExp = float(dfExp.loc[~dfExp.Enrollments.isnull(), 'Clicks'].sum())\n",
    "\n",
    "# Gross conversion\n",
    "GCcont = dfCont.Enrollments.sum() / NCont\n",
    "GCexp = dfExp.Enrollments.sum() / NExp\n",
    "\n",
    "print dfCont.Enrollments.sum(), NCont, dfExp.Enrollments.sum(), NExp\n",
    "\n",
    "dhat_GC = GCexp - GCcont\n",
    "\n",
    "z=1.96\n",
    "\n",
    "ppool = (dfCont.Enrollments.sum() + dfExp.Enrollments.sum()) / (NCont + NExp)\n",
    "SD = np.sqrt(ppool*(1-ppool)*(1./NCont + 1./NExp))\n",
    "m = z*SD\n",
    "\n",
    "print(\"Gross conversion (control):    {:.5f}\".format(GCcont))\n",
    "print(\"Gross conversion (experiment): {:.5f}\".format(GCexp))\n",
    "print(\"dhat:                          {:.5f}\".format(dhat_GC))\n",
    "print(\"ppool:                         {:.5f}\".format(ppool))\n",
    "print(\"Pooled Standard Deviation:     {:.5f}\".format(SD))\n",
    "print(\"Margin of Error:               {:.5f}\".format(m))\n",
    "print(\"Confidence Interval:           {:.5f} - {:.5f}\".format(dhat_GC-m, dhat_GC+m))\n",
    "\n",
    "\n"
   ]
  },
  {
   "cell_type": "code",
   "execution_count": 58,
   "metadata": {
    "collapsed": false
   },
   "outputs": [
    {
     "data": {
      "image/png": "[encoded data removed]",
      "text/plain": [
       "<matplotlib.figure.Figure at 0x118114a8>"
      ]
     },
     "metadata": {},
     "output_type": "display_data"
    }
   ],
   "source": [
    "plt.figure(figsize=(10,5))\n",
    "plt.plot([dhat_GC-m, dhat_GC-m], [-1,1], color='#2a63bf')\n",
    "plt.plot([dhat_GC], [0], 'o', color='#2a63bf')\n",
    "plt.plot([-0.01, -0.01], [-.5,.5], color='#bf362a')\n",
    "plt.plot([0, 0], [-5, 5], color='black', linewidth=.5)\n",
    "plt.plot([dhat_GC+m, dhat_GC+m], [-1,1], color='#2a63bf')\n",
    "plt.legend(['95% CI', 'dhat', 'dmin'])\n",
    "plt.title('Gross Conversion')\n",
    "plt.savefig('gross_conv.png')"
   ]
  },
  {
   "cell_type": "code",
   "execution_count": 59,
   "metadata": {
    "collapsed": false
   },
   "outputs": [
    {
     "name": "stdout",
     "output_type": "stream",
     "text": [
      "Net conversion (control):      0.11756\n",
      "Net conversion (experiment):   0.11269\n",
      "dhat:                          -0.00487\n",
      "ppool:                         0.11513\n",
      "Pooled Standard Deviation:     0.00343\n",
      "Margin of Error:               0.00673\n",
      "Confidence Interval:           -0.01160 - 0.00186\n"
     ]
    }
   ],
   "source": [
    "# Net Conversion\n",
    "NCcont = dfCont.Payments.sum() / NCont\n",
    "NCexp = dfExp.Payments.sum() / NExp\n",
    "\n",
    "dhat_NC = NCexp - NCcont\n",
    "\n",
    "ppool = (dfCont.Payments.sum() + dfExp.Payments.sum()) / (NCont + NExp)\n",
    "SD = np.sqrt(ppool*(1-ppool)*(1./NCont + 1./NExp))\n",
    "m = z*SD\n",
    "\n",
    "print(\"Net conversion (control):      {:.5f}\".format(NCcont))\n",
    "print(\"Net conversion (experiment):   {:.5f}\".format(NCexp))\n",
    "print(\"dhat:                          {:.5f}\".format(dhat_NC))\n",
    "print(\"ppool:                         {:.5f}\".format(ppool))\n",
    "print(\"Pooled Standard Deviation:     {:.5f}\".format(SD))\n",
    "print(\"Margin of Error:               {:.5f}\".format(m))\n",
    "print(\"Confidence Interval:           {:.5f} - {:.5f}\".format(dhat_NC-m, dhat_NC+m))\n"
   ]
  },
  {
   "cell_type": "code",
   "execution_count": 60,
   "metadata": {
    "collapsed": false
   },
   "outputs": [
    {
     "data": {
      "image/png": "[encoded data removed]",
      "text/plain": [
       "<matplotlib.figure.Figure at 0x1163d748>"
      ]
     },
     "metadata": {},
     "output_type": "display_data"
    }
   ],
   "source": [
    "plt.figure(figsize=(10,5))\n",
    "plt.plot([dhat_NC-m, dhat_NC-m], [-1,1], color='#2a63bf')\n",
    "plt.plot([dhat_NC], [0], 'o', color='#2a63bf')\n",
    "plt.plot([-0.0075, -0.0075], [-.5,.5], color='#bf362a')\n",
    "plt.plot([0, 0], [-5, 5], color='black', linewidth=.5)\n",
    "plt.plot([dhat_NC+m, dhat_NC+m], [-1,1], color='#2a63bf')\n",
    "plt.legend(['95% CI', 'dhat', 'dmin'])\n",
    "plt.title('Net Conversion')\n",
    "plt.savefig('net_conv.png')"
   ]
  },
  {
   "cell_type": "code",
   "execution_count": 61,
   "metadata": {
    "collapsed": false
   },
   "outputs": [
    {
     "name": "stdout",
     "output_type": "stream",
     "text": [
      "Gross Conversion: Total days: 23, Days with positive change: 4\n",
      "Net Conversion:   Total days: 23, Days with positive change: 10\n"
     ]
    }
   ],
   "source": [
    "# Sign Test\n",
    "\n",
    "GC = dfExp.Enrollments / dfExp.Clicks - dfCont.Enrollments / dfCont.Clicks\n",
    "NC = dfExp.Payments / dfExp.Clicks - dfCont.Payments / dfCont.Clicks\n",
    "\n",
    "GCpos = len(GC[GC > 0])\n",
    "NCpos = len(NC[NC > 0])\n",
    "GClen = sum(~GC.isnull())\n",
    "NClen = sum(~NC.isnull())\n",
    "\n",
    "print(\"Gross Conversion: Total days: {:.0f}, Days with positive change: {:.0f}\".format(GClen, GCpos))\n",
    "print(\"Net Conversion:   Total days: {:.0f}, Days with positive change: {:.0f}\".format(NClen, NCpos))\n"
   ]
  },
  {
   "cell_type": "markdown",
   "metadata": {},
   "source": [
    "http://graphpad.com/quickcalcs/binomial1.cfm is used to compute probabilities:\n",
    "\n",
    "Two-tail p-values:\n",
    "* Gross Conversion: p = 0.0026 < alpha = .05\n",
    "* Net Conversion: p = 0.6776 > alpha = .05"
   ]
  }
 ],
 "metadata": {
  "anaconda-cloud": {},
  "kernelspec": {
   "display_name": "Python [default]",
   "language": "python",
   "name": "python2"
  },
  "language_info": {
   "codemirror_mode": {
    "name": "ipython",
    "version": 2
   },
   "file_extension": ".py",
   "mimetype": "text/x-python",
   "name": "python",
   "nbconvert_exporter": "python",
   "pygments_lexer": "ipython2",
   "version": "2.7.12"
  }
 },
 "nbformat": 4,
 "nbformat_minor": 2
}
